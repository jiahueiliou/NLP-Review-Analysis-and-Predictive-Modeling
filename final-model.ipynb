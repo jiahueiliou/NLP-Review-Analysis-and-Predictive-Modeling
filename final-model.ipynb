{
  "cells": [
    {
      "cell_type": "code",
      "execution_count": 1,
      "metadata": {
        "colab": {
          "base_uri": "https://localhost:8080/"
        },
        "id": "6xmum9r9tHOz",
        "outputId": "972b17ba-3c02-43e9-a648-23bdc8af0d75"
      },
      "outputs": [
        {
          "name": "stderr",
          "output_type": "stream",
          "text": [
            "[nltk_data] Downloading package stopwords to /home/jovyan/nltk_data...\n",
            "[nltk_data]   Package stopwords is already up-to-date!\n",
            "[nltk_data] Downloading package punkt to /home/jovyan/nltk_data...\n",
            "[nltk_data]   Package punkt is already up-to-date!\n"
          ]
        }
      ],
      "source": [
        "import pickle\n",
        "import pandas as pd\n",
        "import nltk\n",
        "nltk.download('stopwords')\n",
        "nltk.download('punkt')\n",
        "import itertools\n",
        "from collections import Counter\n",
        "import numpy as np\n",
        "from nltk import word_tokenize\n",
        "from nltk.corpus import stopwords\n",
        "from gensim.models import word2vec\n",
        "from sklearn.linear_model import LogisticRegression\n",
        "import os\n",
        "import string"
      ]
    },
    {
      "cell_type": "markdown",
      "metadata": {},
      "source": [
        "## Data Exploration"
      ]
    },
    {
      "cell_type": "code",
      "execution_count": 2,
      "metadata": {
        "colab": {
          "base_uri": "https://localhost:8080/",
          "height": 568
        },
        "id": "nkXnbXDQtHO2",
        "outputId": "b3ed3a43-01da-43b2-ed12-f8c8cb6ca561"
      },
      "outputs": [
        {
          "data": {
            "text/html": [
              "<div>\n",
              "<style scoped>\n",
              "    .dataframe tbody tr th:only-of-type {\n",
              "        vertical-align: middle;\n",
              "    }\n",
              "\n",
              "    .dataframe tbody tr th {\n",
              "        vertical-align: top;\n",
              "    }\n",
              "\n",
              "    .dataframe thead th {\n",
              "        text-align: right;\n",
              "    }\n",
              "</style>\n",
              "<table border=\"1\" class=\"dataframe\">\n",
              "  <thead>\n",
              "    <tr style=\"text-align: right;\">\n",
              "      <th></th>\n",
              "      <th>id</th>\n",
              "      <th>attributes.HappyHour</th>\n",
              "      <th>attributes.Ambience</th>\n",
              "      <th>hours.Tuesday</th>\n",
              "      <th>postal_code</th>\n",
              "      <th>attributes.AgesAllowed</th>\n",
              "      <th>attributes.GoodForDancing</th>\n",
              "      <th>attributes.OutdoorSeating</th>\n",
              "      <th>hours.Saturday</th>\n",
              "      <th>attributes.Corkage</th>\n",
              "      <th>...</th>\n",
              "      <th>attributes.AcceptsInsurance</th>\n",
              "      <th>attributes.RestaurantsDelivery</th>\n",
              "      <th>attributes.DietaryRestrictions</th>\n",
              "      <th>attributes.BusinessAcceptsBitcoin</th>\n",
              "      <th>address</th>\n",
              "      <th>attributes.GoodForKids</th>\n",
              "      <th>attributes.GoodForMeal</th>\n",
              "      <th>hours</th>\n",
              "      <th>label</th>\n",
              "      <th>review</th>\n",
              "    </tr>\n",
              "  </thead>\n",
              "  <tbody>\n",
              "    <tr>\n",
              "      <th>0</th>\n",
              "      <td>0</td>\n",
              "      <td>b'True'</td>\n",
              "      <td>b\"{'romantic': False, 'intimate': False, 'clas...</td>\n",
              "      <td>b'15:0-2:0'</td>\n",
              "      <td>b'44107'</td>\n",
              "      <td>NaN</td>\n",
              "      <td>NaN</td>\n",
              "      <td>b'False'</td>\n",
              "      <td>b'11:30-2:0'</td>\n",
              "      <td>NaN</td>\n",
              "      <td>...</td>\n",
              "      <td>NaN</td>\n",
              "      <td>b'False'</td>\n",
              "      <td>NaN</td>\n",
              "      <td>NaN</td>\n",
              "      <td>b'17800 Detroit Ave'</td>\n",
              "      <td>b'False'</td>\n",
              "      <td>b\"{'dessert': False, 'latenight': False, 'lunc...</td>\n",
              "      <td>{'Monday': '16:0-2:0', 'Tuesday': '15:0-2:0', ...</td>\n",
              "      <td>american (traditional)</td>\n",
              "      <td>So, we stopped here on our way to the Side Que...</td>\n",
              "    </tr>\n",
              "    <tr>\n",
              "      <th>1</th>\n",
              "      <td>1</td>\n",
              "      <td>NaN</td>\n",
              "      <td>b\"{'romantic': False, 'intimate': False, 'tour...</td>\n",
              "      <td>b'11:0-21:0'</td>\n",
              "      <td>b'85042'</td>\n",
              "      <td>NaN</td>\n",
              "      <td>NaN</td>\n",
              "      <td>b'True'</td>\n",
              "      <td>b'11:0-20:30'</td>\n",
              "      <td>NaN</td>\n",
              "      <td>...</td>\n",
              "      <td>NaN</td>\n",
              "      <td>b'False'</td>\n",
              "      <td>NaN</td>\n",
              "      <td>b'False'</td>\n",
              "      <td>b'2160 E Baseline Rd, Ste 128'</td>\n",
              "      <td>b'True'</td>\n",
              "      <td>b\"{'dessert': False, 'latenight': False, 'lunc...</td>\n",
              "      <td>{'Monday': '11:0-21:0', 'Tuesday': '11:0-21:0'...</td>\n",
              "      <td>american (new)</td>\n",
              "      <td>This is our go-to healthy spot! The food is al...</td>\n",
              "    </tr>\n",
              "    <tr>\n",
              "      <th>2</th>\n",
              "      <td>2</td>\n",
              "      <td>NaN</td>\n",
              "      <td>NaN</td>\n",
              "      <td>b'11:0-21:0'</td>\n",
              "      <td>b'M4M 3G6'</td>\n",
              "      <td>NaN</td>\n",
              "      <td>NaN</td>\n",
              "      <td>NaN</td>\n",
              "      <td>b'11:0-21:0'</td>\n",
              "      <td>NaN</td>\n",
              "      <td>...</td>\n",
              "      <td>NaN</td>\n",
              "      <td>NaN</td>\n",
              "      <td>NaN</td>\n",
              "      <td>NaN</td>\n",
              "      <td>b'1000 Gerrard St E'</td>\n",
              "      <td>NaN</td>\n",
              "      <td>NaN</td>\n",
              "      <td>{'Monday': '11:0-21:0', 'Tuesday': '11:0-21:0'...</td>\n",
              "      <td>mexican</td>\n",
              "      <td>Food court meal at Gerrard Square.  It's been ...</td>\n",
              "    </tr>\n",
              "    <tr>\n",
              "      <th>3</th>\n",
              "      <td>3</td>\n",
              "      <td>NaN</td>\n",
              "      <td>b\"{'romantic': False, 'intimate': False, 'clas...</td>\n",
              "      <td>NaN</td>\n",
              "      <td>b'89146'</td>\n",
              "      <td>NaN</td>\n",
              "      <td>NaN</td>\n",
              "      <td>b'False'</td>\n",
              "      <td>NaN</td>\n",
              "      <td>NaN</td>\n",
              "      <td>...</td>\n",
              "      <td>NaN</td>\n",
              "      <td>b'True'</td>\n",
              "      <td>NaN</td>\n",
              "      <td>NaN</td>\n",
              "      <td>b'6700 W Charleston Blvd'</td>\n",
              "      <td>b'True'</td>\n",
              "      <td>NaN</td>\n",
              "      <td>NaN</td>\n",
              "      <td>mexican</td>\n",
              "      <td>Located on Rainbow/Charleston, this small fami...</td>\n",
              "    </tr>\n",
              "    <tr>\n",
              "      <th>4</th>\n",
              "      <td>4</td>\n",
              "      <td>NaN</td>\n",
              "      <td>b\"{'romantic': False, 'intimate': False, 'tour...</td>\n",
              "      <td>NaN</td>\n",
              "      <td>b'44133'</td>\n",
              "      <td>NaN</td>\n",
              "      <td>NaN</td>\n",
              "      <td>b'False'</td>\n",
              "      <td>NaN</td>\n",
              "      <td>NaN</td>\n",
              "      <td>...</td>\n",
              "      <td>NaN</td>\n",
              "      <td>b'False'</td>\n",
              "      <td>NaN</td>\n",
              "      <td>NaN</td>\n",
              "      <td>b'5630 Wallings Rd'</td>\n",
              "      <td>b'True'</td>\n",
              "      <td>b\"{'dessert': False, 'latenight': False, 'lunc...</td>\n",
              "      <td>NaN</td>\n",
              "      <td>chinese</td>\n",
              "      <td>No frills Chinese takeout joint which serves u...</td>\n",
              "    </tr>\n",
              "  </tbody>\n",
              "</table>\n",
              "<p>5 rows × 62 columns</p>\n",
              "</div>"
            ],
            "text/plain": [
              "   id attributes.HappyHour                                attributes.Ambience  \\\n",
              "0   0              b'True'  b\"{'romantic': False, 'intimate': False, 'clas...   \n",
              "1   1                  NaN  b\"{'romantic': False, 'intimate': False, 'tour...   \n",
              "2   2                  NaN                                                NaN   \n",
              "3   3                  NaN  b\"{'romantic': False, 'intimate': False, 'clas...   \n",
              "4   4                  NaN  b\"{'romantic': False, 'intimate': False, 'tour...   \n",
              "\n",
              "  hours.Tuesday postal_code attributes.AgesAllowed attributes.GoodForDancing  \\\n",
              "0   b'15:0-2:0'    b'44107'                    NaN                       NaN   \n",
              "1  b'11:0-21:0'    b'85042'                    NaN                       NaN   \n",
              "2  b'11:0-21:0'  b'M4M 3G6'                    NaN                       NaN   \n",
              "3           NaN    b'89146'                    NaN                       NaN   \n",
              "4           NaN    b'44133'                    NaN                       NaN   \n",
              "\n",
              "  attributes.OutdoorSeating hours.Saturday attributes.Corkage  ...  \\\n",
              "0                  b'False'   b'11:30-2:0'                NaN  ...   \n",
              "1                   b'True'  b'11:0-20:30'                NaN  ...   \n",
              "2                       NaN   b'11:0-21:0'                NaN  ...   \n",
              "3                  b'False'            NaN                NaN  ...   \n",
              "4                  b'False'            NaN                NaN  ...   \n",
              "\n",
              "   attributes.AcceptsInsurance attributes.RestaurantsDelivery  \\\n",
              "0                          NaN                       b'False'   \n",
              "1                          NaN                       b'False'   \n",
              "2                          NaN                            NaN   \n",
              "3                          NaN                        b'True'   \n",
              "4                          NaN                       b'False'   \n",
              "\n",
              "  attributes.DietaryRestrictions attributes.BusinessAcceptsBitcoin  \\\n",
              "0                            NaN                               NaN   \n",
              "1                            NaN                          b'False'   \n",
              "2                            NaN                               NaN   \n",
              "3                            NaN                               NaN   \n",
              "4                            NaN                               NaN   \n",
              "\n",
              "                          address attributes.GoodForKids  \\\n",
              "0            b'17800 Detroit Ave'               b'False'   \n",
              "1  b'2160 E Baseline Rd, Ste 128'                b'True'   \n",
              "2            b'1000 Gerrard St E'                    NaN   \n",
              "3       b'6700 W Charleston Blvd'                b'True'   \n",
              "4             b'5630 Wallings Rd'                b'True'   \n",
              "\n",
              "                              attributes.GoodForMeal  \\\n",
              "0  b\"{'dessert': False, 'latenight': False, 'lunc...   \n",
              "1  b\"{'dessert': False, 'latenight': False, 'lunc...   \n",
              "2                                                NaN   \n",
              "3                                                NaN   \n",
              "4  b\"{'dessert': False, 'latenight': False, 'lunc...   \n",
              "\n",
              "                                               hours                   label  \\\n",
              "0  {'Monday': '16:0-2:0', 'Tuesday': '15:0-2:0', ...  american (traditional)   \n",
              "1  {'Monday': '11:0-21:0', 'Tuesday': '11:0-21:0'...          american (new)   \n",
              "2  {'Monday': '11:0-21:0', 'Tuesday': '11:0-21:0'...                 mexican   \n",
              "3                                                NaN                 mexican   \n",
              "4                                                NaN                 chinese   \n",
              "\n",
              "                                              review  \n",
              "0  So, we stopped here on our way to the Side Que...  \n",
              "1  This is our go-to healthy spot! The food is al...  \n",
              "2  Food court meal at Gerrard Square.  It's been ...  \n",
              "3  Located on Rainbow/Charleston, this small fami...  \n",
              "4  No frills Chinese takeout joint which serves u...  \n",
              "\n",
              "[5 rows x 62 columns]"
            ]
          },
          "execution_count": 2,
          "metadata": {},
          "output_type": "execute_result"
        }
      ],
      "source": [
        "df_train = pd.read_csv(\"train.csv\")\n",
        "df_train.head()"
      ]
    },
    {
      "cell_type": "code",
      "execution_count": 3,
      "metadata": {
        "colab": {
          "base_uri": "https://localhost:8080/"
        },
        "id": "_WSwABL8tHO2",
        "outputId": "b40b4f66-ee89-4683-a8d0-e79d066b5bfd"
      },
      "outputs": [
        {
          "data": {
            "text/plain": [
              "(13144, 62)"
            ]
          },
          "execution_count": 3,
          "metadata": {},
          "output_type": "execute_result"
        }
      ],
      "source": [
        "df_train.shape"
      ]
    },
    {
      "cell_type": "code",
      "execution_count": 4,
      "metadata": {
        "colab": {
          "base_uri": "https://localhost:8080/",
          "height": 300
        },
        "id": "7LGywapgtHO2",
        "outputId": "6482510c-4591-4e3b-dd53-8fe94799104b"
      },
      "outputs": [
        {
          "data": {
            "text/html": [
              "<div>\n",
              "<style scoped>\n",
              "    .dataframe tbody tr th:only-of-type {\n",
              "        vertical-align: middle;\n",
              "    }\n",
              "\n",
              "    .dataframe tbody tr th {\n",
              "        vertical-align: top;\n",
              "    }\n",
              "\n",
              "    .dataframe thead th {\n",
              "        text-align: right;\n",
              "    }\n",
              "</style>\n",
              "<table border=\"1\" class=\"dataframe\">\n",
              "  <thead>\n",
              "    <tr style=\"text-align: right;\">\n",
              "      <th></th>\n",
              "      <th>id</th>\n",
              "      <th>longitude</th>\n",
              "      <th>attributes.HairSpecializesIn</th>\n",
              "      <th>review_count</th>\n",
              "      <th>is_open</th>\n",
              "      <th>stars</th>\n",
              "      <th>latitude</th>\n",
              "    </tr>\n",
              "  </thead>\n",
              "  <tbody>\n",
              "    <tr>\n",
              "      <th>count</th>\n",
              "      <td>13144.000000</td>\n",
              "      <td>13144.000000</td>\n",
              "      <td>0.0</td>\n",
              "      <td>13144.000000</td>\n",
              "      <td>13144.000000</td>\n",
              "      <td>13144.000000</td>\n",
              "      <td>13144.000000</td>\n",
              "    </tr>\n",
              "    <tr>\n",
              "      <th>mean</th>\n",
              "      <td>6571.500000</td>\n",
              "      <td>-93.924099</td>\n",
              "      <td>NaN</td>\n",
              "      <td>88.824026</td>\n",
              "      <td>0.716525</td>\n",
              "      <td>3.468883</td>\n",
              "      <td>39.378315</td>\n",
              "    </tr>\n",
              "    <tr>\n",
              "      <th>std</th>\n",
              "      <td>3794.490304</td>\n",
              "      <td>16.536313</td>\n",
              "      <td>NaN</td>\n",
              "      <td>184.876083</td>\n",
              "      <td>0.450702</td>\n",
              "      <td>0.710503</td>\n",
              "      <td>4.845917</td>\n",
              "    </tr>\n",
              "    <tr>\n",
              "      <th>min</th>\n",
              "      <td>0.000000</td>\n",
              "      <td>-115.351527</td>\n",
              "      <td>NaN</td>\n",
              "      <td>5.000000</td>\n",
              "      <td>0.000000</td>\n",
              "      <td>1.000000</td>\n",
              "      <td>33.210781</td>\n",
              "    </tr>\n",
              "    <tr>\n",
              "      <th>25%</th>\n",
              "      <td>3285.750000</td>\n",
              "      <td>-112.082824</td>\n",
              "      <td>NaN</td>\n",
              "      <td>13.000000</td>\n",
              "      <td>0.000000</td>\n",
              "      <td>3.000000</td>\n",
              "      <td>35.117573</td>\n",
              "    </tr>\n",
              "    <tr>\n",
              "      <th>50%</th>\n",
              "      <td>6571.500000</td>\n",
              "      <td>-81.699423</td>\n",
              "      <td>NaN</td>\n",
              "      <td>34.000000</td>\n",
              "      <td>1.000000</td>\n",
              "      <td>3.500000</td>\n",
              "      <td>40.428478</td>\n",
              "    </tr>\n",
              "    <tr>\n",
              "      <th>75%</th>\n",
              "      <td>9857.250000</td>\n",
              "      <td>-79.559842</td>\n",
              "      <td>NaN</td>\n",
              "      <td>90.000000</td>\n",
              "      <td>1.000000</td>\n",
              "      <td>4.000000</td>\n",
              "      <td>43.656322</td>\n",
              "    </tr>\n",
              "    <tr>\n",
              "      <th>max</th>\n",
              "      <td>13143.000000</td>\n",
              "      <td>-72.949770</td>\n",
              "      <td>NaN</td>\n",
              "      <td>5763.000000</td>\n",
              "      <td>1.000000</td>\n",
              "      <td>5.000000</td>\n",
              "      <td>51.294184</td>\n",
              "    </tr>\n",
              "  </tbody>\n",
              "</table>\n",
              "</div>"
            ],
            "text/plain": [
              "                 id     longitude  attributes.HairSpecializesIn  review_count  \\\n",
              "count  13144.000000  13144.000000                           0.0  13144.000000   \n",
              "mean    6571.500000    -93.924099                           NaN     88.824026   \n",
              "std     3794.490304     16.536313                           NaN    184.876083   \n",
              "min        0.000000   -115.351527                           NaN      5.000000   \n",
              "25%     3285.750000   -112.082824                           NaN     13.000000   \n",
              "50%     6571.500000    -81.699423                           NaN     34.000000   \n",
              "75%     9857.250000    -79.559842                           NaN     90.000000   \n",
              "max    13143.000000    -72.949770                           NaN   5763.000000   \n",
              "\n",
              "            is_open         stars      latitude  \n",
              "count  13144.000000  13144.000000  13144.000000  \n",
              "mean       0.716525      3.468883     39.378315  \n",
              "std        0.450702      0.710503      4.845917  \n",
              "min        0.000000      1.000000     33.210781  \n",
              "25%        0.000000      3.000000     35.117573  \n",
              "50%        1.000000      3.500000     40.428478  \n",
              "75%        1.000000      4.000000     43.656322  \n",
              "max        1.000000      5.000000     51.294184  "
            ]
          },
          "execution_count": 4,
          "metadata": {},
          "output_type": "execute_result"
        }
      ],
      "source": [
        "df_train.describe()"
      ]
    },
    {
      "cell_type": "code",
      "execution_count": 5,
      "metadata": {
        "colab": {
          "base_uri": "https://localhost:8080/"
        },
        "id": "JDq_BV6stHO2",
        "outputId": "744b42b7-b381-4766-e2e2-1e61a3a2d6d4"
      },
      "outputs": [
        {
          "data": {
            "text/plain": [
              "label\n",
              "american (traditional)    2680\n",
              "mexican                   2217\n",
              "italian                   2032\n",
              "chinese                   1696\n",
              "american (new)            1399\n",
              "japanese                  1063\n",
              "mediterranean              728\n",
              "canadian (new)             484\n",
              "thai                       483\n",
              "asian fusion               362\n",
              "Name: count, dtype: int64"
            ]
          },
          "execution_count": 5,
          "metadata": {},
          "output_type": "execute_result"
        }
      ],
      "source": [
        "df_train.label.value_counts()"
      ]
    },
    {
      "cell_type": "code",
      "execution_count": 6,
      "metadata": {
        "colab": {
          "base_uri": "https://localhost:8080/"
        },
        "id": "8iNcao0ltHO2",
        "outputId": "666975b1-59cf-4233-c218-bc29556275f2"
      },
      "outputs": [
        {
          "data": {
            "text/plain": [
              "Index(['id', 'attributes.HappyHour', 'attributes.Ambience', 'hours.Tuesday',\n",
              "       'postal_code', 'attributes.AgesAllowed', 'attributes.GoodForDancing',\n",
              "       'attributes.OutdoorSeating', 'hours.Saturday', 'attributes.Corkage',\n",
              "       'longitude', 'name', 'attributes.BusinessAcceptsCreditCards',\n",
              "       'attributes.RestaurantsTableService',\n",
              "       'attributes.RestaurantsReservations', 'hours.Friday',\n",
              "       'attributes.RestaurantsPriceRange2', 'attributes.WiFi',\n",
              "       'attributes.ByAppointmentOnly', 'attributes.Music',\n",
              "       'attributes.NoiseLevel', 'attributes.BYOB', 'state',\n",
              "       'attributes.Alcohol', 'attributes.HasTV', 'attributes',\n",
              "       'attributes.BYOBCorkage', 'hours.Wednesday', 'hours.Sunday',\n",
              "       'attributes.RestaurantsGoodForGroups', 'attributes.Open24Hours',\n",
              "       'attributes.BusinessParking', 'attributes.DogsAllowed',\n",
              "       'attributes.HairSpecializesIn', 'review_count', 'is_open',\n",
              "       'attributes.Caters', 'attributes.CoatCheck', 'attributes.BikeParking',\n",
              "       'hours.Monday', 'attributes.WheelchairAccessible', 'city', 'stars',\n",
              "       'attributes.DriveThru', 'attributes.RestaurantsTakeOut', 'latitude',\n",
              "       'attributes.Smoking', 'business_id',\n",
              "       'attributes.RestaurantsCounterService', 'hours.Thursday',\n",
              "       'attributes.RestaurantsAttire', 'attributes.BestNights',\n",
              "       'attributes.AcceptsInsurance', 'attributes.RestaurantsDelivery',\n",
              "       'attributes.DietaryRestrictions', 'attributes.BusinessAcceptsBitcoin',\n",
              "       'address', 'attributes.GoodForKids', 'attributes.GoodForMeal', 'hours',\n",
              "       'label', 'review'],\n",
              "      dtype='object')"
            ]
          },
          "execution_count": 6,
          "metadata": {},
          "output_type": "execute_result"
        }
      ],
      "source": [
        "df_train.columns"
      ]
    },
    {
      "cell_type": "markdown",
      "metadata": {},
      "source": [
        "## Data Preprocessing and Feature Engineering"
      ]
    },
    {
      "cell_type": "markdown",
      "metadata": {
        "id": "dEGkWlHKtHO2"
      },
      "source": [
        "### \"review\" variable - unstructured data, text mining"
      ]
    },
    {
      "cell_type": "code",
      "execution_count": 7,
      "metadata": {
        "colab": {
          "base_uri": "https://localhost:8080/",
          "height": 206
        },
        "id": "NImA209RtHO4",
        "outputId": "12ca098b-b6ee-40f0-c883-af26538e5f10"
      },
      "outputs": [
        {
          "data": {
            "text/html": [
              "<div>\n",
              "<style scoped>\n",
              "    .dataframe tbody tr th:only-of-type {\n",
              "        vertical-align: middle;\n",
              "    }\n",
              "\n",
              "    .dataframe tbody tr th {\n",
              "        vertical-align: top;\n",
              "    }\n",
              "\n",
              "    .dataframe thead th {\n",
              "        text-align: right;\n",
              "    }\n",
              "</style>\n",
              "<table border=\"1\" class=\"dataframe\">\n",
              "  <thead>\n",
              "    <tr style=\"text-align: right;\">\n",
              "      <th></th>\n",
              "      <th>label</th>\n",
              "      <th>review</th>\n",
              "    </tr>\n",
              "  </thead>\n",
              "  <tbody>\n",
              "    <tr>\n",
              "      <th>0</th>\n",
              "      <td>american (traditional)</td>\n",
              "      <td>So, we stopped here on our way to the Side Que...</td>\n",
              "    </tr>\n",
              "    <tr>\n",
              "      <th>1</th>\n",
              "      <td>american (new)</td>\n",
              "      <td>This is our go-to healthy spot! The food is al...</td>\n",
              "    </tr>\n",
              "    <tr>\n",
              "      <th>2</th>\n",
              "      <td>mexican</td>\n",
              "      <td>Food court meal at Gerrard Square.  It's been ...</td>\n",
              "    </tr>\n",
              "    <tr>\n",
              "      <th>3</th>\n",
              "      <td>mexican</td>\n",
              "      <td>Located on Rainbow/Charleston, this small fami...</td>\n",
              "    </tr>\n",
              "    <tr>\n",
              "      <th>4</th>\n",
              "      <td>chinese</td>\n",
              "      <td>No frills Chinese takeout joint which serves u...</td>\n",
              "    </tr>\n",
              "  </tbody>\n",
              "</table>\n",
              "</div>"
            ],
            "text/plain": [
              "                    label                                             review\n",
              "0  american (traditional)  So, we stopped here on our way to the Side Que...\n",
              "1          american (new)  This is our go-to healthy spot! The food is al...\n",
              "2                 mexican  Food court meal at Gerrard Square.  It's been ...\n",
              "3                 mexican  Located on Rainbow/Charleston, this small fami...\n",
              "4                 chinese  No frills Chinese takeout joint which serves u..."
            ]
          },
          "execution_count": 7,
          "metadata": {},
          "output_type": "execute_result"
        }
      ],
      "source": [
        "df_train[[\"label\",\"review\"]].head()"
      ]
    },
    {
      "cell_type": "code",
      "execution_count": 8,
      "metadata": {
        "colab": {
          "base_uri": "https://localhost:8080/",
          "height": 178
        },
        "id": "NteMprgCtHO5",
        "outputId": "77d2f386-29ab-4e25-866a-69b8fe765757"
      },
      "outputs": [
        {
          "data": {
            "text/plain": [
              "'So, we stopped here on our way to the Side Quest, which is just up the street. \\\\n\\\\nWe did not know what to expect, but came on a 3$ taco night...\\\\n\\\\nI\\'m so glad we did:)\\\\n\\\\nMostly, the Rush Inn is a bar-ish place, but there\\'s plenty of back and side seating at booths all through. The place has a dark, rich wood tone, and the patrons were decent folks.\\\\n\\\\nThe tacos were EXCEPTIONAL, and their selection is quite good, with all sorts of stuff I intend to try as soon as possible. I think this place would make a nice casual dinner/lunch stop, and if you need to get beverage, the barkeep and wait staff will keep em coming! \\\\n\\\\nSo, for a quick tasty bite, don\\'t walk slow, RUSH IN TO THE RUSH INN! My boyfriend and I heard about this little place near Rush Inn that offered board games and poutine on Friday. When we arrived, they didn\\'t have food because the chef didn\\'t show up (?) so we ventured to this place a block down. Great vibe inside. A typical bar scene, but had great booze selections and a decently large menu to choose from. I ordered the grilled chicken wrap (smothered in buffalo) and my boyfriend ordered the soft crab sandwich.\\\\n\\\\nBOTH WERE DELICIOUS!\\\\n\\\\nWe are both huge foodies, and consider ourselves pretty in tune with all the good eats in or around Cleveland, and this was a treasure of a find. \\\\n\\\\nWe will definitely be going back! Whoever said this is your typical bar food is nuts...what bar has a stir fried veggie dish, home made mashed potatoes, home made soups, flat bread pizzas, peroghes and fresh veggies??  \\\\nThe place is outstanding.  The menu is huge and varied, something for everyone for sure.  6.00 burger night on Wednesdays!  Not to mention, the staff is very accommodating and friendly. Plus the music they play is great.  A great local bar that will serve you really good food....not just bar food, but REALLY good food! Continuous consistency, party of 12 adults/kids. Best wings in Lakewood, this visit tasty bbq and zesty teriyaki. Also generous sides of potato skins and mozzarella sticks. Others in party raved about the burgers, potato pancakes and \"really good\" fries. Timely service for a busy Friday night. Good noise level so kids are never an issue whether with you or at another booth. Friendly staff this night and always. Seafood and steak dishes always satisfying from previous visits, not what you\\\\\\'d expect from a \"bar food\" spot. Keep it up! Second time at Rush Inn and we had great food and service both times! The atmoshere is what you would expect, nothing fancy but clean and comfortable. The fish sandwich was one of the best I\\'ve ever had! So well cooked with a unique tartar sauce and super fresh bun. The food came out really fast too and our waitress checked on us often but not in the annoying way :)'"
            ]
          },
          "execution_count": 8,
          "metadata": {},
          "output_type": "execute_result"
        }
      ],
      "source": [
        "df_train[\"review\"].iloc[0]"
      ]
    },
    {
      "cell_type": "markdown",
      "metadata": {
        "id": "dxhuiQattHO5"
      },
      "source": [
        "- Preprocessing - stemming, tokenization, stop words removal"
      ]
    },
    {
      "cell_type": "code",
      "execution_count": 9,
      "metadata": {
        "id": "tsyVeqR2tHO5"
      },
      "outputs": [],
      "source": [
        "from nltk.stem import PorterStemmer\n",
        "ps = PorterStemmer()\n",
        "\n",
        "# Define the tokenizer function\n",
        "def pre_processing(text):\n",
        "    # English stopwords\n",
        "    stop_words = set(stopwords.words('english'))\n",
        "    stop_words.add('would')\n",
        "\n",
        "    # Prepare translation table to remove punctuation\n",
        "    translator = str.maketrans(string.punctuation, ' ' * len(string.punctuation))\n",
        "\n",
        "    # Remove punctuation and split into words\n",
        "    text_nopunct = text.translate(translator)\n",
        "    words = text_nopunct.strip().split()\n",
        "\n",
        "    # Filter stopwords and single characters, and stem\n",
        "    filtered_words = [ps.stem(word) for word in words if word.lower() not in stop_words and len(word) > 1]\n",
        "\n",
        "    return filtered_words"
      ]
    },
    {
      "cell_type": "markdown",
      "metadata": {},
      "source": [
        "- TF-IDF"
      ]
    },
    {
      "cell_type": "code",
      "execution_count": 10,
      "metadata": {
        "colab": {
          "base_uri": "https://localhost:8080/"
        },
        "id": "glHzspJoW2zQ",
        "outputId": "3e50545c-e3a5-426a-f163-197562463b5a"
      },
      "outputs": [
        {
          "name": "stderr",
          "output_type": "stream",
          "text": [
            "/opt/conda/lib/python3.11/site-packages/sklearn/feature_extraction/text.py:525: UserWarning: The parameter 'token_pattern' will not be used since 'tokenizer' is not None'\n",
            "  warnings.warn(\n"
          ]
        }
      ],
      "source": [
        "from sklearn.feature_extraction.text import TfidfVectorizer\n",
        "\n",
        "tfidf = TfidfVectorizer(strip_accents=None,\n",
        "                        lowercase=True,\n",
        "                        preprocessor=None,  # applied preprocessor in Data Cleaning\n",
        "                        tokenizer=pre_processing,   # can be the one we create ourselves\n",
        "                        use_idf=True,\n",
        "                        norm='l2',\n",
        "                        smooth_idf=True)\n",
        "\n",
        "X_review = tfidf.fit_transform(df_train[\"review\"])\n",
        "y = df_train[\"label\"]"
      ]
    },
    {
      "cell_type": "markdown",
      "metadata": {},
      "source": [
        "- Add more weights to important_words"
      ]
    },
    {
      "cell_type": "code",
      "execution_count": 11,
      "metadata": {
        "id": "xxBGG9IVgOoi"
      },
      "outputs": [],
      "source": [
        "important_words = [\"american\", \"mexican\", \"chines\", \"mediterranean\", \"italian\", \"thai\", \"asian\", \"canadian\", \"japanes\"]"
      ]
    },
    {
      "cell_type": "code",
      "execution_count": 12,
      "metadata": {
        "id": "Hb0n7hLnapCh"
      },
      "outputs": [],
      "source": [
        "important_word_indices = [tfidf.vocabulary_.get(word) for word in important_words if word in tfidf.vocabulary_]"
      ]
    },
    {
      "cell_type": "code",
      "execution_count": 13,
      "metadata": {
        "colab": {
          "base_uri": "https://localhost:8080/"
        },
        "id": "78wZPWOKaq_y",
        "outputId": "a49b2db3-cdc2-4067-93cc-8c149eb5cf1a"
      },
      "outputs": [
        {
          "data": {
            "text/plain": [
              "[2445, 23375, 7861, 23092, 19155, 40665, 3224, 6653, 19354]"
            ]
          },
          "execution_count": 13,
          "metadata": {},
          "output_type": "execute_result"
        }
      ],
      "source": [
        "important_word_indices"
      ]
    },
    {
      "cell_type": "code",
      "execution_count": 16,
      "metadata": {
        "id": "-VvXsAk_hiVU"
      },
      "outputs": [],
      "source": [
        "# Scale up the TF-IDF scores for these words\n",
        "for idx in important_word_indices:\n",
        "    X_review[:, idx] *= 2  # weight_factor > 1 to increase the weight"
      ]
    },
    {
      "cell_type": "code",
      "execution_count": 17,
      "metadata": {
        "colab": {
          "base_uri": "https://localhost:8080/"
        },
        "id": "XLCKs3brLqGn",
        "outputId": "d39b9dcc-9ddf-440c-c089-cb2ca922fe5d"
      },
      "outputs": [
        {
          "data": {
            "text/plain": [
              "(13144, 46367)"
            ]
          },
          "execution_count": 17,
          "metadata": {},
          "output_type": "execute_result"
        }
      ],
      "source": [
        "X_review.shape"
      ]
    },
    {
      "cell_type": "markdown",
      "metadata": {
        "id": "KdwGBf-qQgON"
      },
      "source": [
        "### \"name\" variable - unstructured data, text mining"
      ]
    },
    {
      "cell_type": "code",
      "execution_count": 18,
      "metadata": {
        "colab": {
          "base_uri": "https://localhost:8080/"
        },
        "id": "wyESQGOULaSw",
        "outputId": "df0cb0b3-9870-48c4-de89-6f65e4d94e39"
      },
      "outputs": [
        {
          "data": {
            "text/plain": [
              "0                b'Rush Inn'\n",
              "1                b'GreenMix'\n",
              "2    b'BarBurrito - Gerrard'\n",
              "3                b'SalvaMex'\n",
              "4                b'Hop Hing'\n",
              "Name: name, dtype: object"
            ]
          },
          "execution_count": 18,
          "metadata": {},
          "output_type": "execute_result"
        }
      ],
      "source": [
        "# add one more feature\n",
        "df_train[\"name\"].head()"
      ]
    },
    {
      "cell_type": "markdown",
      "metadata": {},
      "source": [
        "- extract the name pattern"
      ]
    },
    {
      "cell_type": "code",
      "execution_count": 19,
      "metadata": {
        "id": "gmBjqJ5yOiwe"
      },
      "outputs": [],
      "source": [
        "import re\n",
        "\n",
        "# Define the regex pattern\n",
        "pattern = re.compile(r\"b'([^']+)\")\n",
        "\n",
        "# Update the column by applying the regex pattern and extracting the matched group\n",
        "df_train['name'] = df_train['name'].apply(lambda x: pattern.search(str(x)).group(1) if pattern.search(str(x)) else x)\n"
      ]
    },
    {
      "cell_type": "code",
      "execution_count": 20,
      "metadata": {
        "colab": {
          "base_uri": "https://localhost:8080/"
        },
        "id": "9DYgXVPDO0dd",
        "outputId": "466c9ab3-8371-40dd-fbb4-a35fdeef7181"
      },
      "outputs": [
        {
          "data": {
            "text/plain": [
              "0                Rush Inn\n",
              "1                GreenMix\n",
              "2    BarBurrito - Gerrard\n",
              "3                SalvaMex\n",
              "4                Hop Hing\n",
              "Name: name, dtype: object"
            ]
          },
          "execution_count": 20,
          "metadata": {},
          "output_type": "execute_result"
        }
      ],
      "source": [
        "df_train[\"name\"].head()"
      ]
    },
    {
      "cell_type": "code",
      "execution_count": 21,
      "metadata": {
        "id": "yGs_aHejPe71"
      },
      "outputs": [],
      "source": [
        "X_name = tfidf.transform(df_train[\"name\"])"
      ]
    },
    {
      "cell_type": "markdown",
      "metadata": {},
      "source": [
        "### \"attributes.Ambience\" vairable"
      ]
    },
    {
      "cell_type": "code",
      "execution_count": 22,
      "metadata": {},
      "outputs": [
        {
          "data": {
            "text/plain": [
              "'b\"{\\'romantic\\': False, \\'intimate\\': False, \\'classy\\': False, \\'hipster\\': False, \\'divey\\': False, \\'touristy\\': False, \\'trendy\\': False, \\'upscale\\': False, \\'casual\\': True}\"'"
            ]
          },
          "execution_count": 22,
          "metadata": {},
          "output_type": "execute_result"
        }
      ],
      "source": [
        "df_train[\"attributes.Ambience\"][0]"
      ]
    },
    {
      "cell_type": "markdown",
      "metadata": {},
      "source": [
        "- extract the pattern"
      ]
    },
    {
      "cell_type": "code",
      "execution_count": 23,
      "metadata": {},
      "outputs": [
        {
          "name": "stdout",
          "output_type": "stream",
          "text": [
            "{'upscale', 'intimate', 'casual', 'romantic', 'classy', 'touristy', 'hipster', 'trendy', 'divey'}\n"
          ]
        }
      ],
      "source": [
        "# Define a regex pattern to extract key and boolean value\n",
        "pattern = re.compile(r\"'(\\w+)': (True|False)\")\n",
        "\n",
        "keys = set()\n",
        "\n",
        "# generate a key set that have all the categories in the Ambience column\n",
        "for row in df_train[\"attributes.Ambience\"]:\n",
        "    if isinstance(row, str):  # Check if the row is a string\n",
        "        matches = pattern.findall(row)\n",
        "        for key, value in matches:\n",
        "            keys.add(key)\n",
        "\n",
        "print(keys)"
      ]
    },
    {
      "cell_type": "code",
      "execution_count": 24,
      "metadata": {},
      "outputs": [],
      "source": [
        "all_keys = dict()\n",
        "for k in keys:\n",
        "    all_keys[k] = len(all_keys)"
      ]
    },
    {
      "cell_type": "code",
      "execution_count": 25,
      "metadata": {},
      "outputs": [],
      "source": [
        "# seems the sequency of the keys in the Ambience is not the same and sometimes has absence\n",
        "# so try to use the same sequence using the same as the keys set\n",
        "\n",
        "# Initialize an empty list to store the numeric representations\n",
        "numeric_data = []\n",
        "\n",
        "for row in df_train[\"attributes.Ambience\"]:\n",
        "    numeric_row = [0] * 9\n",
        "    if isinstance(row, str):  # Check if the row is a string\n",
        "        # Find all matches in the current row\n",
        "        matches = pattern.findall(row)\n",
        "        # Convert matches to numeric format (0s and 1s)\n",
        "        for key, value in matches:\n",
        "            if value == \"True\":\n",
        "                token_id = all_keys[key]\n",
        "                numeric_row[token_id] = 1\n",
        "    else:\n",
        "        numeric_row = [0] * 9\n",
        "    numeric_data.append(numeric_row)"
      ]
    },
    {
      "cell_type": "code",
      "execution_count": 26,
      "metadata": {},
      "outputs": [],
      "source": [
        "# check\n",
        "for i in numeric_data:\n",
        "    if len(i) == 9:\n",
        "        continue\n",
        "    else:\n",
        "        print(i)"
      ]
    },
    {
      "cell_type": "code",
      "execution_count": 27,
      "metadata": {},
      "outputs": [],
      "source": [
        "# Convert numeric_data to a numpy array\n",
        "numeric_array = np.array(numeric_data)"
      ]
    },
    {
      "cell_type": "code",
      "execution_count": 28,
      "metadata": {},
      "outputs": [
        {
          "data": {
            "text/plain": [
              "(13144, 9)"
            ]
          },
          "execution_count": 28,
          "metadata": {},
          "output_type": "execute_result"
        }
      ],
      "source": [
        "numeric_array.shape"
      ]
    },
    {
      "cell_type": "code",
      "execution_count": 29,
      "metadata": {},
      "outputs": [],
      "source": [
        "from scipy.sparse import csr_matrix, hstack\n",
        "\n",
        "X_Ambience = csr_matrix(numeric_array)"
      ]
    },
    {
      "cell_type": "markdown",
      "metadata": {},
      "source": [
        "### \"state\" vairable"
      ]
    },
    {
      "cell_type": "code",
      "execution_count": 30,
      "metadata": {},
      "outputs": [
        {
          "data": {
            "text/plain": [
              "state\n",
              "b'AZ'    2986\n",
              "b'ON'    2959\n",
              "b'NV'    1966\n",
              "b'OH'    1300\n",
              "b'NC'    1046\n",
              "b'PA'     906\n",
              "b'QC'     798\n",
              "b'AB'     485\n",
              "b'WI'     425\n",
              "b'IL'     178\n",
              "b'SC'      94\n",
              "b'VA'       1\n",
              "Name: count, dtype: int64"
            ]
          },
          "execution_count": 30,
          "metadata": {},
          "output_type": "execute_result"
        }
      ],
      "source": [
        "df_train[\"state\"].value_counts()"
      ]
    },
    {
      "cell_type": "code",
      "execution_count": 31,
      "metadata": {},
      "outputs": [
        {
          "data": {
            "text/plain": [
              "11"
            ]
          },
          "execution_count": 31,
          "metadata": {},
          "output_type": "execute_result"
        }
      ],
      "source": [
        "# common states in the training set\n",
        "all_states = [\"b'AZ'\", \"b'ON'\", \"b'NV'\", \"b'OH'\", \"b'NC'\", \"b'PA'\", \"b'QC'\", \"b'AB'\", \"b'WI'\", \"b'IL'\", \"b'SC'\"]\n",
        "len(all_states)"
      ]
    },
    {
      "cell_type": "markdown",
      "metadata": {},
      "source": [
        "- one-hot encoding"
      ]
    },
    {
      "cell_type": "code",
      "execution_count": 32,
      "metadata": {},
      "outputs": [],
      "source": [
        "state_data = []\n",
        "for row in df_train[\"state\"]:\n",
        "    state = [0] * (len(all_states) + 1)\n",
        "    if isinstance(row, str):  # Check if the row is a string\n",
        "        if row in all_states:\n",
        "            # Find the index of the state and set the corresponding position to 1\n",
        "            index = all_states.index(row)\n",
        "            state[index] = 1\n",
        "        else:\n",
        "            # If the state is not in all_states, categorize it as \"other\"\n",
        "            state[-1] = 1  # Set the last position to 1 for \"other\"\n",
        "    else:   # nan\n",
        "        state[-1] = 1\n",
        "    state_data.append(state)"
      ]
    },
    {
      "cell_type": "code",
      "execution_count": 33,
      "metadata": {},
      "outputs": [],
      "source": [
        "X_state = np.array(state_data)"
      ]
    },
    {
      "cell_type": "code",
      "execution_count": 34,
      "metadata": {},
      "outputs": [
        {
          "data": {
            "text/plain": [
              "(13144, 12)"
            ]
          },
          "execution_count": 34,
          "metadata": {},
          "output_type": "execute_result"
        }
      ],
      "source": [
        "X_state.shape"
      ]
    },
    {
      "cell_type": "code",
      "execution_count": 35,
      "metadata": {},
      "outputs": [],
      "source": [
        "X_state = csr_matrix(X_state)"
      ]
    },
    {
      "cell_type": "markdown",
      "metadata": {},
      "source": [
        "### \"OutdoorSeating\" variable"
      ]
    },
    {
      "cell_type": "code",
      "execution_count": 36,
      "metadata": {},
      "outputs": [
        {
          "data": {
            "text/plain": [
              "attributes.OutdoorSeating\n",
              "b'False'    7044\n",
              "b'True'     4791\n",
              "NaN         1299\n",
              "b'None'       10\n",
              "Name: count, dtype: int64"
            ]
          },
          "execution_count": 36,
          "metadata": {},
          "output_type": "execute_result"
        }
      ],
      "source": [
        "df_train[\"attributes.OutdoorSeating\"].value_counts(dropna=False)"
      ]
    },
    {
      "cell_type": "markdown",
      "metadata": {},
      "source": [
        "- one-hot encoding"
      ]
    },
    {
      "cell_type": "code",
      "execution_count": 37,
      "metadata": {},
      "outputs": [],
      "source": [
        "seat_data = []\n",
        "for row in df_train[\"attributes.OutdoorSeating\"]:\n",
        "    seat = [0] * 3\n",
        "    if isinstance(row, str):  # Check if the row is a string\n",
        "        if row == \"b'False'\":\n",
        "            seat[0] = 1\n",
        "        elif row == \"b'True'\":\n",
        "            seat[1] = 1\n",
        "        else:\n",
        "            seat[-1] = 1  # Set the last position to 1 for \"other\"\n",
        "    else:   # nan\n",
        "        seat[-1] = 1\n",
        "    seat_data.append(seat)"
      ]
    },
    {
      "cell_type": "code",
      "execution_count": 39,
      "metadata": {},
      "outputs": [],
      "source": [
        "X_seat = np.array(seat_data)"
      ]
    },
    {
      "cell_type": "code",
      "execution_count": 40,
      "metadata": {},
      "outputs": [
        {
          "data": {
            "text/plain": [
              "(13144, 3)"
            ]
          },
          "execution_count": 40,
          "metadata": {},
          "output_type": "execute_result"
        }
      ],
      "source": [
        "X_seat.shape"
      ]
    },
    {
      "cell_type": "code",
      "execution_count": 41,
      "metadata": {},
      "outputs": [],
      "source": [
        "X_seat = csr_matrix(X_seat)"
      ]
    },
    {
      "cell_type": "markdown",
      "metadata": {},
      "source": [
        "### \"Caters\" variable"
      ]
    },
    {
      "cell_type": "code",
      "execution_count": 42,
      "metadata": {},
      "outputs": [
        {
          "data": {
            "text/plain": [
              "attributes.Caters\n",
              "b'True'     4799\n",
              "NaN         4330\n",
              "b'False'    3996\n",
              "b'None'       19\n",
              "Name: count, dtype: int64"
            ]
          },
          "execution_count": 42,
          "metadata": {},
          "output_type": "execute_result"
        }
      ],
      "source": [
        "df_train[\"attributes.Caters\"].value_counts(dropna=False)"
      ]
    },
    {
      "cell_type": "markdown",
      "metadata": {},
      "source": [
        "- one-hot encoding"
      ]
    },
    {
      "cell_type": "code",
      "execution_count": 43,
      "metadata": {},
      "outputs": [],
      "source": [
        "Caters_data = []\n",
        "for row in df_train[\"attributes.Caters\"]:\n",
        "    Caters = [0] * 3\n",
        "    if isinstance(row, str):  # Check if the row is a string\n",
        "        if row == \"b'False'\":\n",
        "            Caters[0] = 1\n",
        "        elif row == \"b'True'\":\n",
        "            Caters[1] = 1\n",
        "        else:\n",
        "            Caters[-1] = 1  # Set the last position to 1 for \"other\"\n",
        "    else:   # nan\n",
        "        Caters[-1] = 1\n",
        "    Caters_data.append(Caters)"
      ]
    },
    {
      "cell_type": "code",
      "execution_count": 44,
      "metadata": {},
      "outputs": [],
      "source": [
        "X_Caters = np.array(Caters_data)\n",
        "X_Caters = csr_matrix(X_Caters)"
      ]
    },
    {
      "cell_type": "markdown",
      "metadata": {},
      "source": [
        "### \"WiFi\" variable"
      ]
    },
    {
      "cell_type": "code",
      "execution_count": 45,
      "metadata": {},
      "outputs": [
        {
          "data": {
            "text/plain": [
              "attributes.WiFi\n",
              "b\"u'no'\"      3550\n",
              "b\"u'free'\"    3034\n",
              "NaN           2922\n",
              "b\"'no'\"       1981\n",
              "b\"'free'\"     1568\n",
              "b\"u'paid'\"      46\n",
              "b\"'paid'\"       25\n",
              "b'None'         18\n",
              "Name: count, dtype: int64"
            ]
          },
          "execution_count": 45,
          "metadata": {},
          "output_type": "execute_result"
        }
      ],
      "source": [
        "df_train[\"attributes.WiFi\"].value_counts(dropna=False)"
      ]
    },
    {
      "cell_type": "markdown",
      "metadata": {},
      "source": [
        "- extract the pattern"
      ]
    },
    {
      "cell_type": "code",
      "execution_count": 46,
      "metadata": {},
      "outputs": [],
      "source": [
        "# Define the regex pattern\n",
        "pattern = re.compile(r\"b[\\\"']u?'?([^']+)'?\\\"?\") \n",
        "\n",
        "# Update the column by applying the regex pattern and extracting the matched group\n",
        "df_train['attributes.WiFi'] = df_train['attributes.WiFi'].apply(lambda x: pattern.search(str(x)).group(1) if pattern.search(str(x)) else x)\n"
      ]
    },
    {
      "cell_type": "markdown",
      "metadata": {},
      "source": [
        "- one-hot encoding"
      ]
    },
    {
      "cell_type": "code",
      "execution_count": 47,
      "metadata": {},
      "outputs": [],
      "source": [
        "WiFi_data = []\n",
        "for row in df_train[\"attributes.WiFi\"]:\n",
        "    WiFi = [0] * 4\n",
        "    if isinstance(row, str):  # Check if the row is a string\n",
        "        if row == \"paid\":\n",
        "            WiFi[0] = 1\n",
        "        elif row == \"free\":\n",
        "            WiFi[1] = 1\n",
        "        elif row == \"no\":\n",
        "            WiFi[2] = 1\n",
        "        else:\n",
        "            WiFi[-1] = 1  # Set the last position to 1 for \"other\"\n",
        "    else:   # nan\n",
        "        WiFi[-1] = 1\n",
        "    WiFi_data.append(WiFi)"
      ]
    },
    {
      "cell_type": "code",
      "execution_count": 48,
      "metadata": {},
      "outputs": [],
      "source": [
        "X_WiFi = np.array(WiFi_data)\n",
        "X_WiFi = csr_matrix(X_WiFi)"
      ]
    },
    {
      "cell_type": "markdown",
      "metadata": {},
      "source": [
        "- combine all the features we preprocessed and engineered"
      ]
    },
    {
      "cell_type": "code",
      "execution_count": 49,
      "metadata": {
        "id": "hRGHtnSEPr8k"
      },
      "outputs": [],
      "source": [
        "X_all = hstack([X_review, X_name, X_Ambience, X_state, X_seat, X_Caters, X_WiFi])\n",
        "\n",
        "# Ensure the result is in CSR format for efficiency\n",
        "X_all = X_all.tocsr()"
      ]
    },
    {
      "cell_type": "code",
      "execution_count": 50,
      "metadata": {},
      "outputs": [
        {
          "data": {
            "text/plain": [
              "(13144, 92765)"
            ]
          },
          "execution_count": 50,
          "metadata": {},
          "output_type": "execute_result"
        }
      ],
      "source": [
        "X_all.shape"
      ]
    },
    {
      "cell_type": "markdown",
      "metadata": {},
      "source": [
        "## Model Building"
      ]
    },
    {
      "cell_type": "code",
      "execution_count": 51,
      "metadata": {
        "id": "w_R7zSdyYQ4P"
      },
      "outputs": [],
      "source": [
        "from sklearn.model_selection import train_test_split\n",
        "import pickle\n",
        "from sklearn.linear_model import LogisticRegressionCV\n",
        "\n",
        "\n",
        "X_train, X_test, y_train, y_test = train_test_split(X_all, y, random_state=42, test_size=0.3, shuffle=True)"
      ]
    },
    {
      "cell_type": "code",
      "execution_count": 52,
      "metadata": {},
      "outputs": [],
      "source": [
        "clf = LogisticRegression(max_iter=100000000).fit(X_train, y_train)\n"
      ]
    },
    {
      "cell_type": "code",
      "execution_count": 53,
      "metadata": {},
      "outputs": [
        {
          "data": {
            "text/plain": [
              "0.8268255578093306"
            ]
          },
          "execution_count": 53,
          "metadata": {},
          "output_type": "execute_result"
        }
      ],
      "source": [
        "clf.score(X_test, y_test)"
      ]
    },
    {
      "cell_type": "markdown",
      "metadata": {
        "id": "_jD8kncAQjl0"
      },
      "source": [
        "## Predict on test data"
      ]
    },
    {
      "cell_type": "code",
      "execution_count": 54,
      "metadata": {
        "id": "XDqvOm4yQk_9"
      },
      "outputs": [],
      "source": [
        "df_test = pd.read_csv(\"test.csv\")"
      ]
    },
    {
      "cell_type": "code",
      "execution_count": 55,
      "metadata": {},
      "outputs": [],
      "source": [
        "clf = LogisticRegression(max_iter=100000000).fit(X_all, y)"
      ]
    },
    {
      "cell_type": "code",
      "execution_count": 56,
      "metadata": {
        "colab": {
          "base_uri": "https://localhost:8080/"
        },
        "id": "2fbT4LaQSUos",
        "outputId": "dd2cad19-901c-45ad-be62-22a672acbed1"
      },
      "outputs": [],
      "source": [
        "X_review_test = tfidf.transform(df_test[\"review\"])"
      ]
    },
    {
      "cell_type": "code",
      "execution_count": 57,
      "metadata": {
        "id": "YErB-83MSM6J"
      },
      "outputs": [],
      "source": [
        "# Scale up the TF-IDF scores for these words\n",
        "for idx in important_word_indices:\n",
        "    X_review_test[:, idx] *= 2  # weight_factor > 1 to increase the weight"
      ]
    },
    {
      "cell_type": "code",
      "execution_count": 58,
      "metadata": {
        "id": "2awKTkp3SuUQ"
      },
      "outputs": [],
      "source": [
        "import re\n",
        "\n",
        "# Define the regex pattern\n",
        "pattern = re.compile(r\"b'([^']+)\")\n",
        "\n",
        "# Update the column by applying the regex pattern and extracting the matched group\n",
        "df_test['name'] = df_test['name'].apply(lambda x: pattern.search(str(x)).group(1) if pattern.search(str(x)) else x)"
      ]
    },
    {
      "cell_type": "code",
      "execution_count": 59,
      "metadata": {},
      "outputs": [],
      "source": [
        "X_name_test = tfidf.transform(df_test[\"name\"])"
      ]
    },
    {
      "cell_type": "code",
      "execution_count": 60,
      "metadata": {},
      "outputs": [],
      "source": [
        "# seems the sequency of the keys in the Ambience is not the same and sometimes has absence\n",
        "# so try to use the same sequence using the same as the keys set\n",
        "\n",
        "pattern = re.compile(r\"'(\\w+)': (True|False)\")\n",
        "\n",
        "# Initialize an empty list to store the numeric representations\n",
        "numeric_data = []\n",
        "\n",
        "for row in df_test[\"attributes.Ambience\"]:\n",
        "    numeric_row = [0] * 9\n",
        "    if isinstance(row, str):  # Check if the row is a string\n",
        "        # Find all matches in the current row\n",
        "        matches = pattern.findall(row)\n",
        "        # Convert matches to numeric format (0s and 1s)\n",
        "        for key, value in matches:\n",
        "            if value == \"True\":\n",
        "                token_id = all_keys[key]\n",
        "                numeric_row[token_id] = 1\n",
        "    else:\n",
        "        numeric_row = [0] * 9\n",
        "    numeric_data.append(numeric_row)"
      ]
    },
    {
      "cell_type": "code",
      "execution_count": 61,
      "metadata": {},
      "outputs": [],
      "source": [
        "# check\n",
        "for i in numeric_data:\n",
        "    if len(i) == 9:\n",
        "        continue\n",
        "    else:\n",
        "        print(i)"
      ]
    },
    {
      "cell_type": "code",
      "execution_count": 62,
      "metadata": {},
      "outputs": [],
      "source": [
        "# Convert numeric_data to a numpy array\n",
        "numeric_array = np.array(numeric_data)"
      ]
    },
    {
      "cell_type": "code",
      "execution_count": 63,
      "metadata": {},
      "outputs": [],
      "source": [
        "X_Ambience_test = csr_matrix(numeric_array)"
      ]
    },
    {
      "cell_type": "code",
      "execution_count": 64,
      "metadata": {},
      "outputs": [],
      "source": [
        "state_data = []\n",
        "for row in df_test[\"state\"]:\n",
        "    state = [0] * (len(all_states) + 1)\n",
        "    if isinstance(row, str):  # Check if the row is a string\n",
        "        if row in all_states:\n",
        "            # Find the index of the state and set the corresponding position to 1\n",
        "            index = all_states.index(row)\n",
        "            state[index] = 1\n",
        "        else:\n",
        "            # If the state is not in all_states, categorize it as \"other\"\n",
        "            state[-1] = 1  # Set the last position to 1 for \"other\"\n",
        "    else:   # nan\n",
        "        state[-1] = 1\n",
        "    state_data.append(state)"
      ]
    },
    {
      "cell_type": "code",
      "execution_count": 65,
      "metadata": {},
      "outputs": [],
      "source": [
        "X_state_test = np.array(state_data)"
      ]
    },
    {
      "cell_type": "code",
      "execution_count": 66,
      "metadata": {},
      "outputs": [
        {
          "data": {
            "text/plain": [
              "(10000, 12)"
            ]
          },
          "execution_count": 66,
          "metadata": {},
          "output_type": "execute_result"
        }
      ],
      "source": [
        "X_state_test.shape"
      ]
    },
    {
      "cell_type": "code",
      "execution_count": 67,
      "metadata": {},
      "outputs": [],
      "source": [
        "X_state_test = csr_matrix(X_state_test)"
      ]
    },
    {
      "cell_type": "code",
      "execution_count": 68,
      "metadata": {},
      "outputs": [],
      "source": [
        "seat_data = []\n",
        "for row in df_test[\"attributes.OutdoorSeating\"]:\n",
        "    seat = [0] * 3\n",
        "    if isinstance(row, str):  # Check if the row is a string\n",
        "        if row == \"b'False'\":\n",
        "            seat[0] = 1\n",
        "        elif row == \"b'True'\":\n",
        "            seat[1] = 1\n",
        "        else:\n",
        "            seat[-1] = 1  # Set the last position to 1 for \"other\"\n",
        "    else:   # nan\n",
        "        seat[-1] = 1\n",
        "    seat_data.append(seat)"
      ]
    },
    {
      "cell_type": "code",
      "execution_count": 69,
      "metadata": {},
      "outputs": [],
      "source": [
        "X_seat_test = np.array(seat_data)\n",
        "X_seat_test = csr_matrix(X_seat_test)"
      ]
    },
    {
      "cell_type": "code",
      "execution_count": 70,
      "metadata": {},
      "outputs": [],
      "source": [
        "Caters_data = []\n",
        "for row in df_test[\"attributes.Caters\"]:\n",
        "    Caters = [0] * 3\n",
        "    if isinstance(row, str):  # Check if the row is a string\n",
        "        if row == \"b'False'\":\n",
        "            Caters[0] = 1\n",
        "        elif row == \"b'True'\":\n",
        "            Caters[1] = 1\n",
        "        else:\n",
        "            Caters[-1] = 1  # Set the last position to 1 for \"other\"\n",
        "    else:   # nan\n",
        "        Caters[-1] = 1\n",
        "    Caters_data.append(Caters)"
      ]
    },
    {
      "cell_type": "code",
      "execution_count": 71,
      "metadata": {},
      "outputs": [],
      "source": [
        "X_Caters_test = np.array(Caters_data)\n",
        "X_Caters_test = csr_matrix(X_Caters_test)"
      ]
    },
    {
      "cell_type": "code",
      "execution_count": 72,
      "metadata": {},
      "outputs": [],
      "source": [
        "# Define the regex pattern\n",
        "pattern = re.compile(r\"b[\\\"']u?'?([^']+)'?\\\"?\") \n",
        "\n",
        "# Update the column by applying the regex pattern and extracting the matched group\n",
        "df_test['attributes.WiFi'] = df_test['attributes.WiFi'].apply(lambda x: pattern.search(str(x)).group(1) if pattern.search(str(x)) else x)\n"
      ]
    },
    {
      "cell_type": "code",
      "execution_count": 73,
      "metadata": {},
      "outputs": [],
      "source": [
        "WiFi_data = []\n",
        "for row in df_test[\"attributes.WiFi\"]:\n",
        "    WiFi = [0] * 4\n",
        "    if isinstance(row, str):  # Check if the row is a string\n",
        "        if row == \"paid\":\n",
        "            WiFi[0] = 1\n",
        "        elif row == \"free\":\n",
        "            WiFi[1] = 1\n",
        "        elif row == \"no\":\n",
        "            WiFi[2] = 1\n",
        "        else:\n",
        "            WiFi[-1] = 1  # Set the last position to 1 for \"other\"\n",
        "    else:   # nan\n",
        "        WiFi[-1] = 1\n",
        "    WiFi_data.append(WiFi)"
      ]
    },
    {
      "cell_type": "code",
      "execution_count": 74,
      "metadata": {},
      "outputs": [],
      "source": [
        "X_WiFi_test = np.array(WiFi_data)\n",
        "X_WiFi_test = csr_matrix(X_WiFi_test)"
      ]
    },
    {
      "cell_type": "code",
      "execution_count": 75,
      "metadata": {},
      "outputs": [],
      "source": [
        "from scipy.sparse import csr_matrix, hstack\n",
        "\n",
        "X_all_test = hstack([X_review_test, X_name_test, X_Ambience_test, X_state_test, X_seat_test, X_Caters_test, X_WiFi_test])\n",
        "\n",
        "# Ensure the result is in CSR format for efficiency\n",
        "X_all_test = X_all_test.tocsr()"
      ]
    },
    {
      "cell_type": "code",
      "execution_count": 76,
      "metadata": {},
      "outputs": [
        {
          "data": {
            "text/plain": [
              "(10000, 92765)"
            ]
          },
          "execution_count": 76,
          "metadata": {},
          "output_type": "execute_result"
        }
      ],
      "source": [
        "X_all_test.shape"
      ]
    },
    {
      "cell_type": "code",
      "execution_count": 77,
      "metadata": {},
      "outputs": [],
      "source": [
        "preds = clf.predict(X_all_test)"
      ]
    },
    {
      "cell_type": "code",
      "execution_count": 78,
      "metadata": {},
      "outputs": [],
      "source": [
        "dic = {\"Id\": [], \"Predicted\": []}\n",
        "for i, pred in enumerate(preds):\n",
        "    dic[\"Id\"].append(i)\n",
        "    dic[\"Predicted\"].append(pred)\n"
      ]
    },
    {
      "cell_type": "code",
      "execution_count": 79,
      "metadata": {},
      "outputs": [],
      "source": [
        "dic_df = pd.DataFrame.from_dict(dic)\n",
        "dic_df.to_csv(\"predicted.csv\", index=False)"
      ]
    },
    {
      "cell_type": "markdown",
      "metadata": {},
      "source": [
        "Result: The final test data prediction score was 0.82684, ranking 2nd on the kaggle rankings."
      ]
    }
  ],
  "metadata": {
    "colab": {
      "provenance": []
    },
    "kernelspec": {
      "display_name": "base",
      "language": "python",
      "name": "python3"
    },
    "language_info": {
      "codemirror_mode": {
        "name": "ipython",
        "version": 3
      },
      "file_extension": ".py",
      "mimetype": "text/x-python",
      "name": "python",
      "nbconvert_exporter": "python",
      "pygments_lexer": "ipython3",
      "version": "3.11.7"
    },
    "orig_nbformat": 4
  },
  "nbformat": 4,
  "nbformat_minor": 0
}
